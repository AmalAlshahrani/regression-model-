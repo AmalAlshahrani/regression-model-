{
 "cells": [
  {
   "cell_type": "code",
   "execution_count": 135,
   "id": "950f0aa6",
   "metadata": {
    "scrolled": true
   },
   "outputs": [
    {
     "data": {
      "text/html": [
       "<div>\n",
       "<style scoped>\n",
       "    .dataframe tbody tr th:only-of-type {\n",
       "        vertical-align: middle;\n",
       "    }\n",
       "\n",
       "    .dataframe tbody tr th {\n",
       "        vertical-align: top;\n",
       "    }\n",
       "\n",
       "    .dataframe thead th {\n",
       "        text-align: right;\n",
       "    }\n",
       "</style>\n",
       "<table border=\"1\" class=\"dataframe\">\n",
       "  <thead>\n",
       "    <tr style=\"text-align: right;\">\n",
       "      <th></th>\n",
       "      <th>Unnamed: 0</th>\n",
       "      <th>Price</th>\n",
       "      <th>Num_Of_Bedrooms</th>\n",
       "      <th>Num_Of_Bathrooms</th>\n",
       "      <th>Size(m²)</th>\n",
       "      <th>District</th>\n",
       "    </tr>\n",
       "  </thead>\n",
       "  <tbody>\n",
       "    <tr>\n",
       "      <th>0</th>\n",
       "      <td>0</td>\n",
       "      <td>2900000.0</td>\n",
       "      <td>7</td>\n",
       "      <td>5</td>\n",
       "      <td>300.0</td>\n",
       "      <td>حي القيروان - الرياض</td>\n",
       "    </tr>\n",
       "    <tr>\n",
       "      <th>1</th>\n",
       "      <td>1</td>\n",
       "      <td>1190000.0</td>\n",
       "      <td>7</td>\n",
       "      <td>5</td>\n",
       "      <td>225.0</td>\n",
       "      <td>حي الرمال - الرياض</td>\n",
       "    </tr>\n",
       "    <tr>\n",
       "      <th>2</th>\n",
       "      <td>2</td>\n",
       "      <td>2600000.0</td>\n",
       "      <td>4</td>\n",
       "      <td>4</td>\n",
       "      <td>312.0</td>\n",
       "      <td>حي عرقة - الرياض</td>\n",
       "    </tr>\n",
       "    <tr>\n",
       "      <th>3</th>\n",
       "      <td>3</td>\n",
       "      <td>1100000.0</td>\n",
       "      <td>7</td>\n",
       "      <td>5</td>\n",
       "      <td>280.0</td>\n",
       "      <td>حي الصواري - الخبر</td>\n",
       "    </tr>\n",
       "    <tr>\n",
       "      <th>4</th>\n",
       "      <td>4</td>\n",
       "      <td>3000000.0</td>\n",
       "      <td>4</td>\n",
       "      <td>4</td>\n",
       "      <td>600.0</td>\n",
       "      <td>حي الزمرد - جدة</td>\n",
       "    </tr>\n",
       "    <tr>\n",
       "      <th>...</th>\n",
       "      <td>...</td>\n",
       "      <td>...</td>\n",
       "      <td>...</td>\n",
       "      <td>...</td>\n",
       "      <td>...</td>\n",
       "      <td>...</td>\n",
       "    </tr>\n",
       "    <tr>\n",
       "      <th>1975</th>\n",
       "      <td>1975</td>\n",
       "      <td>980000.0</td>\n",
       "      <td>5</td>\n",
       "      <td>5</td>\n",
       "      <td>350.0</td>\n",
       "      <td>حي طيبة - الرياض</td>\n",
       "    </tr>\n",
       "    <tr>\n",
       "      <th>1976</th>\n",
       "      <td>1976</td>\n",
       "      <td>1850000.0</td>\n",
       "      <td>7</td>\n",
       "      <td>5</td>\n",
       "      <td>268.0</td>\n",
       "      <td>حي الشراع - جدة</td>\n",
       "    </tr>\n",
       "    <tr>\n",
       "      <th>1977</th>\n",
       "      <td>1977</td>\n",
       "      <td>1200000.0</td>\n",
       "      <td>5</td>\n",
       "      <td>4</td>\n",
       "      <td>400.0</td>\n",
       "      <td>حي الراشدية - مكة المكرمة</td>\n",
       "    </tr>\n",
       "    <tr>\n",
       "      <th>1978</th>\n",
       "      <td>1978</td>\n",
       "      <td>1350000.0</td>\n",
       "      <td>5</td>\n",
       "      <td>5</td>\n",
       "      <td>240.0</td>\n",
       "      <td>حي ظهرة نمار - الرياض</td>\n",
       "    </tr>\n",
       "    <tr>\n",
       "      <th>1979</th>\n",
       "      <td>1979</td>\n",
       "      <td>1260000.0</td>\n",
       "      <td>5</td>\n",
       "      <td>5</td>\n",
       "      <td>375.0</td>\n",
       "      <td>حي الروابي - الرياض</td>\n",
       "    </tr>\n",
       "  </tbody>\n",
       "</table>\n",
       "<p>1980 rows × 6 columns</p>\n",
       "</div>"
      ],
      "text/plain": [
       "      Unnamed: 0      Price  Num_Of_Bedrooms  Num_Of_Bathrooms  Size(m²)  \\\n",
       "0              0  2900000.0                7                 5     300.0   \n",
       "1              1  1190000.0                7                 5     225.0   \n",
       "2              2  2600000.0                4                 4     312.0   \n",
       "3              3  1100000.0                7                 5     280.0   \n",
       "4              4  3000000.0                4                 4     600.0   \n",
       "...          ...        ...              ...               ...       ...   \n",
       "1975        1975   980000.0                5                 5     350.0   \n",
       "1976        1976  1850000.0                7                 5     268.0   \n",
       "1977        1977  1200000.0                5                 4     400.0   \n",
       "1978        1978  1350000.0                5                 5     240.0   \n",
       "1979        1979  1260000.0                5                 5     375.0   \n",
       "\n",
       "                       District  \n",
       "0          حي القيروان - الرياض  \n",
       "1            حي الرمال - الرياض  \n",
       "2              حي عرقة - الرياض  \n",
       "3            حي الصواري - الخبر  \n",
       "4               حي الزمرد - جدة  \n",
       "...                         ...  \n",
       "1975           حي طيبة - الرياض  \n",
       "1976            حي الشراع - جدة  \n",
       "1977  حي الراشدية - مكة المكرمة  \n",
       "1978      حي ظهرة نمار - الرياض  \n",
       "1979        حي الروابي - الرياض  \n",
       "\n",
       "[1980 rows x 6 columns]"
      ]
     },
     "execution_count": 135,
     "metadata": {},
     "output_type": "execute_result"
    }
   ],
   "source": [
    "import pandas as pd\n",
    "import numpy as np\n",
    "import seaborn as sns\n",
    "import patsy\n",
    "import scipy.stats as stats\n",
    "\n",
    "import statsmodels.api as sm\n",
    "import statsmodels.formula.api as smf\n",
    "from sklearn import preprocessing\n",
    "from sklearn.linear_model import LinearRegression\n",
    "import matplotlib.pyplot as plt\n",
    "%matplotlib inline\n",
    "from sklearn.metrics import mean_squared_error,r2_score\n",
    "from math import sqrt\n",
    "from sklearn.model_selection import train_test_split\n",
    "from sklearn.linear_model import LinearRegression, Ridge #ordinary linear regression + w/ ridge regularization\n",
    "from sklearn.preprocessing import StandardScaler, PolynomialFeatures\n",
    "\n",
    "from sklearn.model_selection import train_test_split\n",
    "from sklearn.linear_model import LinearRegression, Ridge #ordinary linear regression + w/ ridge regularization\n",
    "from sklearn.preprocessing import StandardScaler, PolynomialFeatures\n",
    "from sklearn.datasets import make_regression\n",
    "from sklearn.pipeline import make_pipeline\n",
    "\n",
    "\n",
    "from sklearn.datasets import load_diabetes\n",
    "from sklearn.linear_model import Lasso\n",
    "\n",
    "df=pd.read_csv('C:/Users/HUAWEI/Downloads/new_Df.csv')\n"
   ]
  },
  {
   "cell_type": "code",
   "execution_count": 106,
   "id": "57105577",
   "metadata": {
    "scrolled": true
   },
   "outputs": [
    {
     "data": {
      "text/html": [
       "<div>\n",
       "<style scoped>\n",
       "    .dataframe tbody tr th:only-of-type {\n",
       "        vertical-align: middle;\n",
       "    }\n",
       "\n",
       "    .dataframe tbody tr th {\n",
       "        vertical-align: top;\n",
       "    }\n",
       "\n",
       "    .dataframe thead th {\n",
       "        text-align: right;\n",
       "    }\n",
       "</style>\n",
       "<table border=\"1\" class=\"dataframe\">\n",
       "  <thead>\n",
       "    <tr style=\"text-align: right;\">\n",
       "      <th></th>\n",
       "      <th>Price</th>\n",
       "      <th>Num_Of_Bedrooms</th>\n",
       "      <th>Num_Of_Bathrooms</th>\n",
       "      <th>Size(m²)</th>\n",
       "      <th>District</th>\n",
       "    </tr>\n",
       "  </thead>\n",
       "  <tbody>\n",
       "    <tr>\n",
       "      <th>0</th>\n",
       "      <td>2900000.0</td>\n",
       "      <td>7</td>\n",
       "      <td>5</td>\n",
       "      <td>300.0</td>\n",
       "      <td>حي القيروان - الرياض</td>\n",
       "    </tr>\n",
       "    <tr>\n",
       "      <th>1</th>\n",
       "      <td>1190000.0</td>\n",
       "      <td>7</td>\n",
       "      <td>5</td>\n",
       "      <td>225.0</td>\n",
       "      <td>حي الرمال - الرياض</td>\n",
       "    </tr>\n",
       "    <tr>\n",
       "      <th>2</th>\n",
       "      <td>2600000.0</td>\n",
       "      <td>4</td>\n",
       "      <td>4</td>\n",
       "      <td>312.0</td>\n",
       "      <td>حي عرقة - الرياض</td>\n",
       "    </tr>\n",
       "    <tr>\n",
       "      <th>3</th>\n",
       "      <td>1100000.0</td>\n",
       "      <td>7</td>\n",
       "      <td>5</td>\n",
       "      <td>280.0</td>\n",
       "      <td>حي الصواري - الخبر</td>\n",
       "    </tr>\n",
       "    <tr>\n",
       "      <th>4</th>\n",
       "      <td>3000000.0</td>\n",
       "      <td>4</td>\n",
       "      <td>4</td>\n",
       "      <td>600.0</td>\n",
       "      <td>حي الزمرد - جدة</td>\n",
       "    </tr>\n",
       "    <tr>\n",
       "      <th>...</th>\n",
       "      <td>...</td>\n",
       "      <td>...</td>\n",
       "      <td>...</td>\n",
       "      <td>...</td>\n",
       "      <td>...</td>\n",
       "    </tr>\n",
       "    <tr>\n",
       "      <th>1975</th>\n",
       "      <td>980000.0</td>\n",
       "      <td>5</td>\n",
       "      <td>5</td>\n",
       "      <td>350.0</td>\n",
       "      <td>حي طيبة - الرياض</td>\n",
       "    </tr>\n",
       "    <tr>\n",
       "      <th>1976</th>\n",
       "      <td>1850000.0</td>\n",
       "      <td>7</td>\n",
       "      <td>5</td>\n",
       "      <td>268.0</td>\n",
       "      <td>حي الشراع - جدة</td>\n",
       "    </tr>\n",
       "    <tr>\n",
       "      <th>1977</th>\n",
       "      <td>1200000.0</td>\n",
       "      <td>5</td>\n",
       "      <td>4</td>\n",
       "      <td>400.0</td>\n",
       "      <td>حي الراشدية - مكة المكرمة</td>\n",
       "    </tr>\n",
       "    <tr>\n",
       "      <th>1978</th>\n",
       "      <td>1350000.0</td>\n",
       "      <td>5</td>\n",
       "      <td>5</td>\n",
       "      <td>240.0</td>\n",
       "      <td>حي ظهرة نمار - الرياض</td>\n",
       "    </tr>\n",
       "    <tr>\n",
       "      <th>1979</th>\n",
       "      <td>1260000.0</td>\n",
       "      <td>5</td>\n",
       "      <td>5</td>\n",
       "      <td>375.0</td>\n",
       "      <td>حي الروابي - الرياض</td>\n",
       "    </tr>\n",
       "  </tbody>\n",
       "</table>\n",
       "<p>1980 rows × 5 columns</p>\n",
       "</div>"
      ],
      "text/plain": [
       "          Price  Num_Of_Bedrooms  Num_Of_Bathrooms  Size(m²)  \\\n",
       "0     2900000.0                7                 5     300.0   \n",
       "1     1190000.0                7                 5     225.0   \n",
       "2     2600000.0                4                 4     312.0   \n",
       "3     1100000.0                7                 5     280.0   \n",
       "4     3000000.0                4                 4     600.0   \n",
       "...         ...              ...               ...       ...   \n",
       "1975   980000.0                5                 5     350.0   \n",
       "1976  1850000.0                7                 5     268.0   \n",
       "1977  1200000.0                5                 4     400.0   \n",
       "1978  1350000.0                5                 5     240.0   \n",
       "1979  1260000.0                5                 5     375.0   \n",
       "\n",
       "                       District  \n",
       "0          حي القيروان - الرياض  \n",
       "1            حي الرمال - الرياض  \n",
       "2              حي عرقة - الرياض  \n",
       "3            حي الصواري - الخبر  \n",
       "4               حي الزمرد - جدة  \n",
       "...                         ...  \n",
       "1975           حي طيبة - الرياض  \n",
       "1976            حي الشراع - جدة  \n",
       "1977  حي الراشدية - مكة المكرمة  \n",
       "1978      حي ظهرة نمار - الرياض  \n",
       "1979        حي الروابي - الرياض  \n",
       "\n",
       "[1980 rows x 5 columns]"
      ]
     },
     "execution_count": 106,
     "metadata": {},
     "output_type": "execute_result"
    }
   ],
   "source": [
    "\n",
    "df.columns=df.columns.str.strip()\n",
    "df.drop(columns=df.columns[0], \n",
    "        axis=1, \n",
    "        inplace=True)\n",
    "df\n"
   ]
  },
  {
   "cell_type": "code",
   "execution_count": 107,
   "id": "20eeadb6",
   "metadata": {
    "scrolled": true
   },
   "outputs": [
    {
     "data": {
      "text/html": [
       "<div>\n",
       "<style scoped>\n",
       "    .dataframe tbody tr th:only-of-type {\n",
       "        vertical-align: middle;\n",
       "    }\n",
       "\n",
       "    .dataframe tbody tr th {\n",
       "        vertical-align: top;\n",
       "    }\n",
       "\n",
       "    .dataframe thead th {\n",
       "        text-align: right;\n",
       "    }\n",
       "</style>\n",
       "<table border=\"1\" class=\"dataframe\">\n",
       "  <thead>\n",
       "    <tr style=\"text-align: right;\">\n",
       "      <th></th>\n",
       "      <th>Price</th>\n",
       "      <th>Num_Of_Bedrooms</th>\n",
       "      <th>Num_Of_Bathrooms</th>\n",
       "      <th>Size(m²)</th>\n",
       "    </tr>\n",
       "  </thead>\n",
       "  <tbody>\n",
       "    <tr>\n",
       "      <th>0</th>\n",
       "      <td>2900000.0</td>\n",
       "      <td>7</td>\n",
       "      <td>5</td>\n",
       "      <td>300.0</td>\n",
       "    </tr>\n",
       "    <tr>\n",
       "      <th>1</th>\n",
       "      <td>1190000.0</td>\n",
       "      <td>7</td>\n",
       "      <td>5</td>\n",
       "      <td>225.0</td>\n",
       "    </tr>\n",
       "    <tr>\n",
       "      <th>2</th>\n",
       "      <td>2600000.0</td>\n",
       "      <td>4</td>\n",
       "      <td>4</td>\n",
       "      <td>312.0</td>\n",
       "    </tr>\n",
       "    <tr>\n",
       "      <th>3</th>\n",
       "      <td>1100000.0</td>\n",
       "      <td>7</td>\n",
       "      <td>5</td>\n",
       "      <td>280.0</td>\n",
       "    </tr>\n",
       "    <tr>\n",
       "      <th>4</th>\n",
       "      <td>3000000.0</td>\n",
       "      <td>4</td>\n",
       "      <td>4</td>\n",
       "      <td>600.0</td>\n",
       "    </tr>\n",
       "    <tr>\n",
       "      <th>...</th>\n",
       "      <td>...</td>\n",
       "      <td>...</td>\n",
       "      <td>...</td>\n",
       "      <td>...</td>\n",
       "    </tr>\n",
       "    <tr>\n",
       "      <th>1975</th>\n",
       "      <td>980000.0</td>\n",
       "      <td>5</td>\n",
       "      <td>5</td>\n",
       "      <td>350.0</td>\n",
       "    </tr>\n",
       "    <tr>\n",
       "      <th>1976</th>\n",
       "      <td>1850000.0</td>\n",
       "      <td>7</td>\n",
       "      <td>5</td>\n",
       "      <td>268.0</td>\n",
       "    </tr>\n",
       "    <tr>\n",
       "      <th>1977</th>\n",
       "      <td>1200000.0</td>\n",
       "      <td>5</td>\n",
       "      <td>4</td>\n",
       "      <td>400.0</td>\n",
       "    </tr>\n",
       "    <tr>\n",
       "      <th>1978</th>\n",
       "      <td>1350000.0</td>\n",
       "      <td>5</td>\n",
       "      <td>5</td>\n",
       "      <td>240.0</td>\n",
       "    </tr>\n",
       "    <tr>\n",
       "      <th>1979</th>\n",
       "      <td>1260000.0</td>\n",
       "      <td>5</td>\n",
       "      <td>5</td>\n",
       "      <td>375.0</td>\n",
       "    </tr>\n",
       "  </tbody>\n",
       "</table>\n",
       "<p>1980 rows × 4 columns</p>\n",
       "</div>"
      ],
      "text/plain": [
       "          Price  Num_Of_Bedrooms  Num_Of_Bathrooms  Size(m²)\n",
       "0     2900000.0                7                 5     300.0\n",
       "1     1190000.0                7                 5     225.0\n",
       "2     2600000.0                4                 4     312.0\n",
       "3     1100000.0                7                 5     280.0\n",
       "4     3000000.0                4                 4     600.0\n",
       "...         ...              ...               ...       ...\n",
       "1975   980000.0                5                 5     350.0\n",
       "1976  1850000.0                7                 5     268.0\n",
       "1977  1200000.0                5                 4     400.0\n",
       "1978  1350000.0                5                 5     240.0\n",
       "1979  1260000.0                5                 5     375.0\n",
       "\n",
       "[1980 rows x 4 columns]"
      ]
     },
     "execution_count": 107,
     "metadata": {},
     "output_type": "execute_result"
    }
   ],
   "source": [
    "df.drop(columns=df.columns[4], \n",
    "        axis=1, \n",
    "        inplace=True)\n",
    "df"
   ]
  },
  {
   "cell_type": "code",
   "execution_count": 108,
   "id": "0e1e7624",
   "metadata": {},
   "outputs": [],
   "source": [
    "from sklearn.model_selection import train_test_split\n",
    "from sklearn.linear_model import LinearRegression, Ridge #ordinary linear regression + w/ ridge regularization\n",
    "from sklearn.preprocessing import StandardScaler, PolynomialFeatures\n"
   ]
  },
  {
   "cell_type": "code",
   "execution_count": 109,
   "id": "d0c0d0d8",
   "metadata": {
    "scrolled": true
   },
   "outputs": [
    {
     "data": {
      "text/html": [
       "<div>\n",
       "<style scoped>\n",
       "    .dataframe tbody tr th:only-of-type {\n",
       "        vertical-align: middle;\n",
       "    }\n",
       "\n",
       "    .dataframe tbody tr th {\n",
       "        vertical-align: top;\n",
       "    }\n",
       "\n",
       "    .dataframe thead th {\n",
       "        text-align: right;\n",
       "    }\n",
       "</style>\n",
       "<table border=\"1\" class=\"dataframe\">\n",
       "  <thead>\n",
       "    <tr style=\"text-align: right;\">\n",
       "      <th></th>\n",
       "      <th>Num_Of_Bedrooms</th>\n",
       "      <th>Num_Of_Bathrooms</th>\n",
       "      <th>Size(m²)</th>\n",
       "    </tr>\n",
       "  </thead>\n",
       "  <tbody>\n",
       "    <tr>\n",
       "      <th>0</th>\n",
       "      <td>7</td>\n",
       "      <td>5</td>\n",
       "      <td>300.0</td>\n",
       "    </tr>\n",
       "    <tr>\n",
       "      <th>1</th>\n",
       "      <td>7</td>\n",
       "      <td>5</td>\n",
       "      <td>225.0</td>\n",
       "    </tr>\n",
       "    <tr>\n",
       "      <th>2</th>\n",
       "      <td>4</td>\n",
       "      <td>4</td>\n",
       "      <td>312.0</td>\n",
       "    </tr>\n",
       "    <tr>\n",
       "      <th>3</th>\n",
       "      <td>7</td>\n",
       "      <td>5</td>\n",
       "      <td>280.0</td>\n",
       "    </tr>\n",
       "    <tr>\n",
       "      <th>4</th>\n",
       "      <td>4</td>\n",
       "      <td>4</td>\n",
       "      <td>600.0</td>\n",
       "    </tr>\n",
       "    <tr>\n",
       "      <th>...</th>\n",
       "      <td>...</td>\n",
       "      <td>...</td>\n",
       "      <td>...</td>\n",
       "    </tr>\n",
       "    <tr>\n",
       "      <th>1975</th>\n",
       "      <td>5</td>\n",
       "      <td>5</td>\n",
       "      <td>350.0</td>\n",
       "    </tr>\n",
       "    <tr>\n",
       "      <th>1976</th>\n",
       "      <td>7</td>\n",
       "      <td>5</td>\n",
       "      <td>268.0</td>\n",
       "    </tr>\n",
       "    <tr>\n",
       "      <th>1977</th>\n",
       "      <td>5</td>\n",
       "      <td>4</td>\n",
       "      <td>400.0</td>\n",
       "    </tr>\n",
       "    <tr>\n",
       "      <th>1978</th>\n",
       "      <td>5</td>\n",
       "      <td>5</td>\n",
       "      <td>240.0</td>\n",
       "    </tr>\n",
       "    <tr>\n",
       "      <th>1979</th>\n",
       "      <td>5</td>\n",
       "      <td>5</td>\n",
       "      <td>375.0</td>\n",
       "    </tr>\n",
       "  </tbody>\n",
       "</table>\n",
       "<p>1980 rows × 3 columns</p>\n",
       "</div>"
      ],
      "text/plain": [
       "      Num_Of_Bedrooms  Num_Of_Bathrooms  Size(m²)\n",
       "0                   7                 5     300.0\n",
       "1                   7                 5     225.0\n",
       "2                   4                 4     312.0\n",
       "3                   7                 5     280.0\n",
       "4                   4                 4     600.0\n",
       "...               ...               ...       ...\n",
       "1975                5                 5     350.0\n",
       "1976                7                 5     268.0\n",
       "1977                5                 4     400.0\n",
       "1978                5                 5     240.0\n",
       "1979                5                 5     375.0\n",
       "\n",
       "[1980 rows x 3 columns]"
      ]
     },
     "execution_count": 109,
     "metadata": {},
     "output_type": "execute_result"
    }
   ],
   "source": [
    "#Shows X\n",
    "X,y=df.drop('Price',axis=1), df['Price']\n",
    "X\n",
    "\n"
   ]
  },
  {
   "cell_type": "code",
   "execution_count": 111,
   "id": "5ca36dd3",
   "metadata": {
    "scrolled": true
   },
   "outputs": [
    {
     "data": {
      "text/plain": [
       "0       2900000.0\n",
       "1       1190000.0\n",
       "2       2600000.0\n",
       "3       1100000.0\n",
       "4       3000000.0\n",
       "          ...    \n",
       "1975     980000.0\n",
       "1976    1850000.0\n",
       "1977    1200000.0\n",
       "1978    1350000.0\n",
       "1979    1260000.0\n",
       "Name: Price, Length: 1980, dtype: float64"
      ]
     },
     "execution_count": 111,
     "metadata": {},
     "output_type": "execute_result"
    }
   ],
   "source": [
    "y\n"
   ]
  },
  {
   "cell_type": "code",
   "execution_count": 112,
   "id": "4be6e92f",
   "metadata": {},
   "outputs": [],
   "source": [
    "#spilt the data \n",
    "\n",
    "X, X_test, y, y_test = train_test_split(X, y, test_size=.2, random_state=10)"
   ]
  },
  {
   "cell_type": "code",
   "execution_count": 113,
   "id": "681ef505",
   "metadata": {},
   "outputs": [],
   "source": [
    "X_train,X_val,y_train,y_val=train_test_split(X,y,test_size=.25,random_state=10)\n"
   ]
  },
  {
   "cell_type": "code",
   "execution_count": 114,
   "id": "e171fd75",
   "metadata": {},
   "outputs": [
    {
     "data": {
      "text/plain": [
       "LinearRegression()"
      ]
     },
     "execution_count": 114,
     "metadata": {},
     "output_type": "execute_result"
    }
   ],
   "source": [
    "#biuld model (baseline)\n",
    "LR= LinearRegression()\n",
    "LR.fit(X_train,y_train)\n"
   ]
  },
  {
   "cell_type": "code",
   "execution_count": 115,
   "id": "e8272064",
   "metadata": {},
   "outputs": [
    {
     "name": "stdout",
     "output_type": "stream",
     "text": [
      "Linear Regression validation score :0.5122\n"
     ]
    }
   ],
   "source": [
    "#scoring\n",
    "print(f'Linear Regression validation score :{LR.score(X_val,y_val):.4f}')\n",
    "\n"
   ]
  },
  {
   "cell_type": "code",
   "execution_count": 157,
   "id": "3dd39880",
   "metadata": {
    "scrolled": true
   },
   "outputs": [
    {
     "name": "stdout",
     "output_type": "stream",
     "text": [
      "-114634.23910851683\n",
      "[151691.72347    -46841.88195969   3657.74349731]\n"
     ]
    }
   ],
   "source": [
    "print(LR.intercept_)\n",
    "print(LR.coef_)"
   ]
  },
  {
   "cell_type": "code",
   "execution_count": 160,
   "id": "72ad82ea",
   "metadata": {},
   "outputs": [
    {
     "data": {
      "image/png": "[encoded data removed]",
      "text/plain": [
       "<Figure size 1008x288 with 2 Axes>"
      ]
     },
     "metadata": {},
     "output_type": "display_data"
    }
   ],
   "source": [
    "plt.figure(figsize=(14,4))\n",
    "\n",
    "# Plotting predicted vs. observed\n",
    "y_pred = LR.predict(X_val)\n",
    "plt.subplot(1, 2, 1)\n",
    "plt.scatter(y_pred, y_val, alpha=0.25)\n",
    "plt.plot([0, 8000], [0,  8000],'k--', lw=2,color='blue')\n",
    "plt.xlabel('Fitted')\n",
    "plt.ylabel('Actual')\n",
    "plt.title(\"Observed vs. Predicted Values\")\n",
    "plt.savefig(\"actual_vs_observed.pdf\")\n",
    "\n",
    "# Residuals\n",
    "lm_residuals = y_val - y_pred\n",
    "plt.subplot(1, 2, 2)\n",
    "plt.scatter(y_pred, lm_residuals, alpha=.2)\n",
    "plt.xlabel('Predictions')\n",
    "plt.ylabel('Residuals')\n",
    "plt.plot([0,10000], [0, 0],'k--', lw=2,color='blue')\n",
    "plt.title(\"Residuals vs. Predictions\")\n",
    "plt.savefig(\"residuals.pdf\");"
   ]
  },
  {
   "cell_type": "code",
   "execution_count": 116,
   "id": "3342cc2a",
   "metadata": {},
   "outputs": [],
   "source": [
    "#I've completed : first modeling\n",
    "#Linear Regression validation score :0.5122\n"
   ]
  },
  {
   "cell_type": "code",
   "execution_count": 117,
   "id": "066e8c45",
   "metadata": {
    "scrolled": true
   },
   "outputs": [
    {
     "name": "stdout",
     "output_type": "stream",
     "text": [
      "Po Regression validation score :0.5122\n"
     ]
    }
   ],
   "source": [
    "#second model with polynomial \n",
    "poly =PolynomialFeatures(degree=1)\n",
    "\n",
    "X_train_poly = poly.fit_transform(X_train.values)\n",
    "X_val_poly=poly.transform(X_val.values)\n",
    "X_test_poly = poly.transform(X_test.values)\n",
    "\n",
    "poly_lr=LinearRegression()\n",
    "\n",
    "poly_lr.fit(X_train_poly,y_train)  \n",
    "\n",
    "print(f'Po Regression validation score :{poly_lr.score(X_val_poly,y_val):.4f}')\n"
   ]
  },
  {
   "cell_type": "code",
   "execution_count": null,
   "id": "43423504",
   "metadata": {},
   "outputs": [],
   "source": [
    "#Note:\n",
    "    #there is no improvement to  the model , so I'll move to the ridge model  "
   ]
  },
  {
   "cell_type": "code",
   "execution_count": 149,
   "id": "092a94f1",
   "metadata": {},
   "outputs": [
    {
     "data": {
      "text/plain": [
       "Ridge(alpha=200)"
      ]
     },
     "execution_count": 149,
     "metadata": {},
     "output_type": "execute_result"
    }
   ],
   "source": [
    "# Ridge model \n",
    "scaler = StandardScaler()\n",
    "\n",
    "X_train_scaled = scaler.fit_transform(X_train.values)\n",
    "X_val_scaled = scaler.transform(X_val.values)\n",
    "X_test_scaled = scaler.transform(X_test.values)\n",
    "\n",
    "lr_ridge=Ridge(alpha=200)\n",
    "lr_ridge.fit(X_train_scaled,y_train)\n",
    "\n",
    "#x_validation"
   ]
  },
  {
   "cell_type": "code",
   "execution_count": 159,
   "id": "c82e3961",
   "metadata": {},
   "outputs": [
    {
     "data": {
      "image/png": "[encoded data removed]",
      "text/plain": [
       "<Figure size 1008x288 with 2 Axes>"
      ]
     },
     "metadata": {},
     "output_type": "display_data"
    }
   ],
   "source": [
    "plt.figure(figsize=(14,4))\n",
    "\n",
    "# Plotting predicted vs. observed\n",
    "y_pred = poly_lr.predict(X_val_poly)\n",
    "plt.subplot(1, 2, 1)\n",
    "plt.scatter(y_pred, y_val, alpha=0.25)\n",
    "plt.plot([0, 8000], [0,  8000],'k--', lw=2,color='blue')\n",
    "plt.xlabel('Fitted')\n",
    "plt.ylabel('Actual')\n",
    "plt.title(\"Observed vs. Predicted Values\")\n",
    "plt.savefig(\"actual_vs_observed.pdf\")\n",
    "\n",
    "# Residuals\n",
    "poly_residuals = y_val - y_pred\n",
    "plt.subplot(1, 2, 2)\n",
    "plt.scatter(y_pred, poly_residuals, alpha=.2)\n",
    "plt.xlabel('Predictions')\n",
    "plt.ylabel('Residuals')\n",
    "plt.plot([0,10000], [0, 0],'k--', lw=2,color='blue')\n",
    "plt.title(\"Residuals vs. Predictions\")\n",
    "plt.savefig(\"residuals.pdf\");"
   ]
  },
  {
   "cell_type": "code",
   "execution_count": 153,
   "id": "481c60d4",
   "metadata": {},
   "outputs": [
    {
     "name": "stdout",
     "output_type": "stream",
     "text": [
      "Po Regression validation score :0.5274\n"
     ]
    }
   ],
   "source": [
    "print(f'Po Regression validation score :{lr_ridge.score(X_val_scaled,y_val):.4f}')\n"
   ]
  },
  {
   "cell_type": "code",
   "execution_count": null,
   "id": "bc24a4d4",
   "metadata": {},
   "outputs": [],
   "source": [
    "# I as we've shown above the validation score increased with ridge model "
   ]
  },
  {
   "cell_type": "code",
   "execution_count": 150,
   "id": "dd589da7",
   "metadata": {},
   "outputs": [],
   "source": [
    "scaler = StandardScaler()\n",
    "\n",
    "X_train_poly_scaled = scaler.fit_transform(X_train_poly)\n",
    "\n",
    "X_val_poly_scaled = scaler.transform(X_val_poly)\n",
    "def diagnostic_plot(x, y):\n",
    "    plt.figure(figsize=(20,5))\n",
    "    \n",
    "    rgr = LinearRegression()\n",
    "    rgr.fit(x,y)\n",
    "    pred = rgr.predict(x)\n",
    "\n",
    "    plt.subplot(1, 3, 1)\n",
    "    plt.scatter(pred,y,alpha=0.1)\n",
    "    plt.plot(y, y, color='red',linewidth=1,)\n",
    "    plt.title(\"Regression fit\")\n",
    "    plt.xlabel(\"Predicted y\")\n",
    "    plt.ylabel(\"y\")\n",
    "    \n",
    "    plt.subplot(1, 3, 2)\n",
    "    res = y - pred\n",
    "    plt.scatter(pred, res,alpha=0.1)\n",
    "    plt.title(\"Residual plot\")\n",
    "    plt.xlabel(\"prediction\")\n",
    "    plt.ylabel(\"residuals\")\n",
    "    \n",
    "    print(res)    \n",
    "    \n",
    "    plt.subplot(1, 3, 3)\n",
    "    #Generates a probability plot of sample data against the quantiles of a \n",
    "    # specified theoretical distribution \n",
    "    stats.probplot(res, dist=\"norm\", plot=plt,)\n",
    "    plt.title(\"Normal Q-Q plot\")\n",
    "\n"
   ]
  },
  {
   "cell_type": "code",
   "execution_count": 139,
   "id": "3fdb7c4e",
   "metadata": {
    "scrolled": true
   },
   "outputs": [
    {
     "name": "stdout",
     "output_type": "stream",
     "text": [
      "1254    1.051672e+06\n",
      "744    -6.665650e+05\n",
      "990    -3.760787e+05\n",
      "661     4.346296e+06\n",
      "1839   -6.051762e+05\n",
      "            ...     \n",
      "1393   -5.196279e+05\n",
      "1344   -3.934516e+05\n",
      "527    -9.270273e+05\n",
      "1149   -4.602780e+05\n",
      "1289   -2.302780e+05\n",
      "Name: Price, Length: 1584, dtype: float64\n"
     ]
    },
    {
     "data": {
      "image/png": "[encoded data removed]",
      "text/plain": [
       "<Figure size 1440x360 with 3 Axes>"
      ]
     },
     "metadata": {},
     "output_type": "display_data"
    }
   ],
   "source": [
    "\n",
    "sns.set(style='darkgrid')\n",
    "diagnostic_plot(X , y)\n",
    "\n"
   ]
  },
  {
   "cell_type": "code",
   "execution_count": 156,
   "id": "d587cf7f",
   "metadata": {},
   "outputs": [
    {
     "name": "stdout",
     "output_type": "stream",
     "text": [
      "Linear Regression val R^2 : 0.512\n",
      "Ridge Regression val R^2: 0.527\n",
      "Degree 1 polynomial regression val R^2: 0.512\n"
     ]
    }
   ],
   "source": [
    "#baseline model visullesed as above \n",
    "#-it follows normal distribution form as first two graohs ,it depicts the residuals btw current and predictive ,\n",
    "\n",
    "\n",
    "\n",
    "LR.fit(X_train, y_train)\n",
    "print(f'Linear Regression val R^2 : {LR.score(X_val,y_val):.3f}')\n",
    "\n",
    "lr_ridge.fit(X_train_scaled, y_train)\n",
    "print(f'Ridge Regression val R^2: {lr_ridge.score(X_val_scaled, y_val):.3f}')\n",
    "\n",
    "poly_lr.fit(X_train_poly, y_train)\n",
    "print(f'Degree 1 polynomial regression val R^2: {poly_lr.score(X_val_poly, y_val):.3f}')\n",
    "\n",
    "\n",
    "\n",
    "\n"
   ]
  },
  {
   "cell_type": "code",
   "execution_count": null,
   "id": "c9c83de6",
   "metadata": {},
   "outputs": [],
   "source": [
    "#above the comparison btw three models "
   ]
  },
  {
   "cell_type": "code",
   "execution_count": 162,
   "id": "da84f23f",
   "metadata": {},
   "outputs": [
    {
     "name": "stdout",
     "output_type": "stream",
     "text": [
      "Ridge Regression val R^2: 0.527\n"
     ]
    }
   ],
   "source": [
    "#Ridge Regression is the best model.\n",
    "\n",
    "lr_ridge.fit(X_train_scaled, y_train)\n",
    "print(f'Ridge Regression val R^2: {lr_ridge.score(X_val_scaled, y_val):.3f}')\n"
   ]
  },
  {
   "cell_type": "markdown",
   "id": "0fd836a5",
   "metadata": {},
   "source": [
    "# Method 2: Cross-Validation / Test¶"
   ]
  },
  {
   "cell_type": "code",
   "execution_count": 163,
   "id": "ad59a1f8",
   "metadata": {},
   "outputs": [],
   "source": [
    "from sklearn.model_selection import (cross_val_score, KFold, GridSearchCV)"
   ]
  },
  {
   "cell_type": "code",
   "execution_count": 164,
   "id": "16f2c297",
   "metadata": {},
   "outputs": [],
   "source": [
    "\n",
    "kfold = KFold(n_splits=5, shuffle=True, random_state=0)"
   ]
  },
  {
   "cell_type": "code",
   "execution_count": 166,
   "id": "d2cb0d7f",
   "metadata": {},
   "outputs": [
    {
     "name": "stdout",
     "output_type": "stream",
     "text": [
      "[ 0.10435254  0.40340836  0.30692602 -0.60211268  0.41952237]\n",
      "Linear Mean Score:  0.12641932178189422\n"
     ]
    },
    {
     "data": {
      "text/plain": [
       "LinearRegression()"
      ]
     },
     "execution_count": 166,
     "metadata": {},
     "output_type": "execute_result"
    }
   ],
   "source": [
    "LR = LinearRegression()\n",
    "\n",
    "scores = cross_val_score(LR, X_train, y_train, cv=kfold)\n",
    "print(scores)\n",
    "print(\"Linear Mean Score: \", np.mean(scores))\n",
    "\n",
    "# Build the Model\n",
    "LR.fit(X_train, y_train)"
   ]
  },
  {
   "cell_type": "code",
   "execution_count": 167,
   "id": "5f334f7f",
   "metadata": {
    "scrolled": true
   },
   "outputs": [
    {
     "data": {
      "text/plain": [
       "[<matplotlib.lines.Line2D at 0x2dfb310e3d0>]"
      ]
     },
     "execution_count": 167,
     "metadata": {},
     "output_type": "execute_result"
    },
    {
     "data": {
      "image/png": "[encoded data removed]",
      "text/plain": [
       "<Figure size 432x288 with 1 Axes>"
      ]
     },
     "metadata": {},
     "output_type": "display_data"
    }
   ],
   "source": [
    "y_train_pred = LR.predict(X_train)\n",
    "plt.ylabel('Fitted')\n",
    "plt.xlabel('Actual')\n",
    "plt.scatter(y_train, y_train_pred, alpha=0.1)\n",
    "plt.plot([0, 8000], [0, 8000],'k--', lw=2)"
   ]
  },
  {
   "cell_type": "code",
   "execution_count": 168,
   "id": "10380db3",
   "metadata": {
    "scrolled": true
   },
   "outputs": [
    {
     "name": "stdout",
     "output_type": "stream",
     "text": [
      "Lasso Model:\n"
     ]
    },
    {
     "data": {
      "image/png": "[encoded data removed]",
      "text/plain": [
       "<Figure size 432x288 with 1 Axes>"
      ]
     },
     "metadata": {},
     "output_type": "display_data"
    }
   ],
   "source": [
    "print(\"Lasso Model:\")\n",
    "params = {\n",
    "    \"alpha\": np.logspace(-4, -.1, 20)\n",
    "}\n",
    "\n",
    "grid_est = GridSearchCV(Lasso(), param_grid=params, cv=kfold, \n",
    "                        return_train_score=False)\n",
    "grid_est.fit(X_train, y_train)\n",
    "df = pd.DataFrame(grid_est.cv_results_)\n",
    "df[\"alpha\"] = df.params.apply(lambda val: val[\"alpha\"])\n",
    "plt.plot(np.log(df.alpha), df.mean_test_score);"
   ]
  },
  {
   "cell_type": "code",
   "execution_count": 169,
   "id": "48b67a6e",
   "metadata": {
    "scrolled": true
   },
   "outputs": [
    {
     "data": {
      "text/plain": [
       "array([1.00000000e-04, 1.60421716e-04, 2.57351270e-04, 4.12847324e-04,\n",
       "       6.62296762e-04, 1.06246783e-03, 1.70442913e-03, 2.73427446e-03,\n",
       "       4.38637001e-03, 7.03669004e-03, 1.12883789e-02, 1.81090112e-02,\n",
       "       2.90507865e-02, 4.66037703e-02, 7.47625680e-02, 1.19935395e-01,\n",
       "       1.92402418e-01, 3.08655261e-01, 4.95150067e-01, 7.94328235e-01])"
      ]
     },
     "execution_count": 169,
     "metadata": {},
     "output_type": "execute_result"
    }
   ],
   "source": [
    "params['alpha']"
   ]
  },
  {
   "cell_type": "code",
   "execution_count": 170,
   "id": "4454d8f0",
   "metadata": {},
   "outputs": [
    {
     "data": {
      "text/plain": [
       "Lasso(alpha=0.000412847323771536)"
      ]
     },
     "execution_count": 170,
     "metadata": {},
     "output_type": "execute_result"
    }
   ],
   "source": [
    "grid_est.best_estimator_"
   ]
  },
  {
   "cell_type": "code",
   "execution_count": null,
   "id": "caecffc9",
   "metadata": {},
   "outputs": [],
   "source": [
    "#the scored obtained on validation "
   ]
  }
 ],
 "metadata": {
  "kernelspec": {
   "display_name": "Python 3",
   "language": "python",
   "name": "python3"
  },
  "language_info": {
   "codemirror_mode": {
    "name": "ipython",
    "version": 3
   },
   "file_extension": ".py",
   "mimetype": "text/x-python",
   "name": "python",
   "nbconvert_exporter": "python",
   "pygments_lexer": "ipython3",
   "version": "3.8.8"
  }
 },
 "nbformat": 4,
 "nbformat_minor": 5
}
